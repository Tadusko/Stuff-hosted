{
 "cells": [
  {
   "cell_type": "markdown",
   "id": "reported-logic",
   "metadata": {},
   "source": [
    "Tekstiä tekstiä"
    "![test image](images/test_img.jpg)"
   ]
  },
  {
   "cell_type": "markdown",
   "id": "improved-chinese",
   "metadata": {},
   "source": [
    "<img src=\"images/test_img.jpg\" width=\"300\" />"
   ]
  },
  {
   "cell_type": "markdown",
   "id": "recreational-november",
   "metadata": {},
   "source": [
    "<img src=\"images/test_img.jpg\" />"
   ]
  }
 ],
 "metadata": {
  "kernelspec": {
   "display_name": "Python 3",
   "language": "python",
   "name": "python3"
  },
  "language_info": {
   "codemirror_mode": {
    "name": "ipython",
    "version": 3
   },
   "file_extension": ".py",
   "mimetype": "text/x-python",
   "name": "python",
   "nbconvert_exporter": "python",
   "pygments_lexer": "ipython3",
   "version": "3.8.5"
  }
 },
 "nbformat": 4,
 "nbformat_minor": 5
}
